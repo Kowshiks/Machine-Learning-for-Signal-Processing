{
 "cells": [
  {
   "cell_type": "markdown",
   "id": "d97345a1",
   "metadata": {},
   "source": [
    "# Homework 1"
   ]
  },
  {
   "cell_type": "markdown",
   "id": "32cab24e",
   "metadata": {},
   "source": [
    "## P1 : MLE for uniform distribution"
   ]
  },
  {
   "cell_type": "markdown",
   "id": "00dea2c1",
   "metadata": {},
   "source": [
    "**1)** The scores of the 5 students in Prof. K's class who got A+ are :  [ 92, 95.8, 91.3, 94.1, 90.9 ]\n",
    "\n",
    "The pdf of the uniform distribution is represented as: \n",
    "\n",
    "$$\n",
    "p(x) = \\left\\{\n",
    "    \\begin{array}\\\\\n",
    "        \\frac{1}{b-a} & \\mbox{if } \\ a \\leq x \\leq b \\\\\n",
    "        0 & \\mbox{otherwise }\n",
    "    \\end{array}\n",
    "\\right.\n",
    "$$"
   ]
  },
  {
   "cell_type": "markdown",
   "id": "96fbd3f1",
   "metadata": {},
   "source": [
    "**2)** To find the maximum likelihood estimate for the parameters a and b of the uniform distribution :\n",
    "\n",
    "We do know that n = 5 as there are 5 students who got A+. The MLE is given by :\n",
    "\n",
    "#### $ argmax \\prod_{i=1}^{n}p(x|a,b) $ &nbsp; &nbsp; => &nbsp; &nbsp; $ argmax \\prod_{i=1}^{n=5}\\frac{1}{b-a} $\n",
    "\n",
    "Now taking log we get :\n",
    "\n",
    "#### $log \\prod_{i=1}^{n=5}\\frac{1}{b-a} $  &nbsp; &nbsp; => &nbsp; &nbsp; $ log\\frac{1}{(b-a)^n} $\n",
    "\n",
    "= &nbsp; $ log((b-a)^{-n}) $  &nbsp; &nbsp; = &nbsp; &nbsp; $ -nlog(b-a) $\n",
    "\n",
    "Now differentiating with respect to \"a\" we get :\n",
    "\n",
    "### $ \\frac{\\partial(-nlog(b-a))}{\\partial a} $  &nbsp; &nbsp; = &nbsp; &nbsp;  $\\frac{-n.(-1)}{(b-a)} $  &nbsp; &nbsp; = &nbsp; &nbsp;  $\\frac{n}{(b-a)}$\n",
    "\n",
    "\n",
    "Now differentiating with respect to \"b\" we get :\n",
    "\n",
    "### $ \\frac{\\partial(-nlog(b-a))}{\\partial b} $  &nbsp; &nbsp; = &nbsp; &nbsp;  $\\frac{-n.(1)}{(b-a)} $  &nbsp; &nbsp; = &nbsp; &nbsp;  $\\frac{-n}{(b-a)}$\n",
    "\n",
    "\n",
    "Here from the given information we know that n = 5 as there are scores of 5 students who got A+.\n",
    "\n",
    "While taking the differentiation with respect to \"a\" we can see that \"a\" is monotonically increasing. Hence the value of \"a\" would be => min(92, 95.8, 91.3, 94.1, 90.9) which is 90.9.\n",
    "\n",
    "$ \\hat{a}_{MLE} = 90.9 $\n",
    "\n",
    "While taking the differentiation with respect to \"b\" we can see that \"b\" is monotonically decreasing. Hence the value of \"b\" would be => max(92, 95.8, 91.3, 94.1, 90.9) which is 95.8.\n",
    "\n",
    "$ \\hat{b}_{MLE} = 95.8 $"
   ]
  },
  {
   "cell_type": "markdown",
   "id": "a3701d01",
   "metadata": {},
   "source": [
    "**3)** Since Prof. K might have used an integer multiple of 5 rather than a real-valued boundary, considering this as a prior knowledge and looking into the data samples we could easily say that 90.9 (minimum score) and 95.8 (maximum score) should be included along with the prior knowledge in the A+ distribution. Now considering these prior knowledge along with the data sample we can conclude that the A+ students will be in the range of scores **between 90 to 100** where \"a\" being 90 and \"b\" being 100."
   ]
  },
  {
   "cell_type": "markdown",
   "id": "72dd58a0",
   "metadata": {},
   "source": [
    "## P2: Central Limit Theorem"
   ]
  },
  {
   "cell_type": "code",
   "execution_count": 1,
   "id": "580776fd",
   "metadata": {},
   "outputs": [
    {
     "name": "stdout",
     "output_type": "stream",
     "text": [
      "(3655, 6496)\n"
     ]
    }
   ],
   "source": [
    "from PIL import Image\n",
    "from numpy import *\n",
    "import numpy as np\n",
    "import random\n",
    "from matplotlib import pyplot as plt\n",
    "\n",
    "\n",
    "\n",
    "\n",
    "input_image = Image.open(\"data/luddy.jpg\").convert('RGB')\n",
    "\n",
    "image_array = np.array(input_image)\n",
    "\n",
    "red_channel = image_array[:,:,0]\n",
    "\n",
    "print(red_channel.shape)"
   ]
  },
  {
   "cell_type": "code",
   "execution_count": 2,
   "id": "5785f738",
   "metadata": {},
   "outputs": [],
   "source": [
    "# Function to split the patches\n",
    "\n",
    "def get_patch(row, col, n, m):\n",
    "    \n",
    "    matrix = []\n",
    "\n",
    "    for i in range(row, red_channel.shape[0]):\n",
    "        each_pos = []\n",
    "        if(i < row+n):\n",
    "            for j in range(col, red_channel.shape[1]):\n",
    "                if(j < col+m):\n",
    "                    each_pos.append(red_channel[i][j])\n",
    "\n",
    "            matrix.append(each_pos)\n",
    "            \n",
    "    return matrix"
   ]
  },
  {
   "cell_type": "code",
   "execution_count": 3,
   "id": "504093e0",
   "metadata": {},
   "outputs": [],
   "source": [
    "# Function to define the patches\n",
    "\n",
    "def patch_num(num, n, m):\n",
    "\n",
    "    matrix = []\n",
    "    \n",
    "    row_list_2 = np.random.choice(range(0,red_channel.shape[0]-(n+1)),num,replace=True)\n",
    "    col_list_2 = np.random.choice(range(0,red_channel.shape[1]-(m+1)),num,replace=True)\n",
    "\n",
    "\n",
    "    index_2 = zip(row_list_2,col_list_2)\n",
    "\n",
    "    for each_index in index_2:\n",
    "        matrix.append(get_patch(each_index[0], each_index[1], n, m))\n",
    "\n",
    "    num_mat = np.array(matrix)\n",
    "\n",
    "    avg_matrix = np.sum(num_mat,axis=0) / num\n",
    "    \n",
    "    return avg_matrix\n"
   ]
  },
  {
   "cell_type": "code",
   "execution_count": 4,
   "id": "e849d46e",
   "metadata": {},
   "outputs": [],
   "source": [
    "def stats(values):\n",
    "    \n",
    "    mean = np.mean(values)\n",
    "    variance = np.var(values)\n",
    "    \n",
    "    return mean,variance"
   ]
  },
  {
   "cell_type": "code",
   "execution_count": 5,
   "id": "49c765d0",
   "metadata": {},
   "outputs": [],
   "source": [
    "# The patch dimension\n",
    "\n",
    "n = 100  # Row size of the patch\n",
    "m = 100  # Column size of the patch"
   ]
  },
  {
   "cell_type": "markdown",
   "id": "38df0499",
   "metadata": {},
   "source": [
    "## 2 Patches"
   ]
  },
  {
   "cell_type": "code",
   "execution_count": 6,
   "id": "4e254625",
   "metadata": {},
   "outputs": [
    {
     "data": {
      "image/png": "[encoded data removed]",
      "text/plain": [
       "<Figure size 432x288 with 1 Axes>"
      ]
     },
     "metadata": {
      "needs_background": "light"
     },
     "output_type": "display_data"
    }
   ],
   "source": [
    "avg_matrix = patch_num(2, n, m)\n",
    "\n",
    "hist_list = [value for each_list in avg_matrix for value in each_list]\n",
    "\n",
    "plt.hist(hist_list)\n",
    "plt.show()\n",
    "\n",
    "mean_2, variance_2 = stats(hist_list)"
   ]
  },
  {
   "cell_type": "markdown",
   "id": "96326db0",
   "metadata": {},
   "source": [
    "## 100 Patches"
   ]
  },
  {
   "cell_type": "code",
   "execution_count": 7,
   "id": "66eb6472",
   "metadata": {},
   "outputs": [
    {
     "data": {
      "image/png": "[encoded data removed]",
      "text/plain": [
       "<Figure size 432x288 with 1 Axes>"
      ]
     },
     "metadata": {
      "needs_background": "light"
     },
     "output_type": "display_data"
    }
   ],
   "source": [
    "avg_matrix = patch_num(100, n, m)\n",
    "\n",
    "hist_list = [value for each_list in avg_matrix for value in each_list]\n",
    "\n",
    "plt.hist(hist_list)\n",
    "plt.show()\n",
    "\n",
    "mean_100, variance_100 = stats(hist_list)"
   ]
  },
  {
   "cell_type": "markdown",
   "id": "ba1fa205",
   "metadata": {},
   "source": [
    "## 1000 Patches"
   ]
  },
  {
   "cell_type": "code",
   "execution_count": 8,
   "id": "05c72816",
   "metadata": {},
   "outputs": [
    {
     "data": {
      "image/png": "[encoded data removed]",
      "text/plain": [
       "<Figure size 432x288 with 1 Axes>"
      ]
     },
     "metadata": {
      "needs_background": "light"
     },
     "output_type": "display_data"
    }
   ],
   "source": [
    "avg_matrix = patch_num(1000, n, m)\n",
    "\n",
    "hist_list = [value for each_list in avg_matrix for value in each_list]\n",
    "\n",
    "plt.hist(hist_list)\n",
    "plt.show()\n",
    "\n",
    "mean_1000, variance_1000 = stats(hist_list)"
   ]
  },
  {
   "cell_type": "markdown",
   "id": "ec4dfb21",
   "metadata": {},
   "source": [
    "The Gaussian distribution is given by:\n",
    "\n",
    "\n",
    "### $ P(x) = \\frac{1}{\\sigma\\sqrt{2\\pi}} e^{\\frac{-1}{2}\\left( \\frac{x-\\mu}{\\sigma} \\right)^2} $\n",
    "\n",
    "\n",
    "Now taking the log likelihood we get :\n",
    "\n",
    "### $ ln p(D|\\mu,\\sigma) = ln \\prod_{i=1}^{n}p(x|\\mu,\\sigma) $\n",
    "\n",
    "### $ = nln\\frac{1}{\\sqrt{2\\pi}} + nln\\frac{1}{\\sigma} - \\frac{\\sum_{i=1}^{n} {(x-\\mu)}^2}{2\\sigma^2} $  \n",
    "\n",
    "\n",
    "Here we know x which are the averaged patches, n is the 10000 pixel intensity and $\\mu$ is the sample mean of each averaged patch and $\\sigma$ is the variance of each averaged patch.\n",
    "\n"
   ]
  },
  {
   "cell_type": "code",
   "execution_count": 23,
   "id": "b642b92f",
   "metadata": {},
   "outputs": [
    {
     "name": "stdout",
     "output_type": "stream",
     "text": [
      "Log likelihood of the averaged 2 patches : -52955.236436493746\n",
      "Log likelihood of the averaged 100 patches : -35412.93436479649\n",
      "Log likelihood of the averaged 1000 patches : -15120.325459393924\n"
     ]
    }
   ],
   "source": [
    "# Finding log likelihood of all the three averaged patches\n",
    "\n",
    "def log_likelihood(n,x,mean,variance):\n",
    "    \n",
    "    term_1 = n*np.log(1/sqrt(2*np.pi))\n",
    "    \n",
    "    term_2 = n*np.log(1/variance)\n",
    "    \n",
    "    term_3a = sum([(each-mean)**2 for each in x])\n",
    "    \n",
    "    term_3b = 2*(variance)**2\n",
    "    \n",
    "    term_3 = term_3a/term_3b\n",
    "    \n",
    "    logLikelihood = term_1 + term_2 - term_3\n",
    "    \n",
    "    return logLikelihood\n",
    "\n",
    "logLikelihood_2 = log_likelihood(10000, hist_list, mean_2, variance_2)\n",
    "\n",
    "logLikelihood_100 = log_likelihood(10000, hist_list, mean_100, variance_100)\n",
    "\n",
    "logLikelihood_1000 = log_likelihood(10000, hist_list, mean_1000, variance_1000)\n",
    "\n",
    "\n",
    "print(\"Log likelihood of the averaged 2 patches :\", logLikelihood_2)\n",
    "print(\"Log likelihood of the averaged 100 patches :\", logLikelihood_100)\n",
    "print(\"Log likelihood of the averaged 1000 patches :\", logLikelihood_1000)\n"
   ]
  },
  {
   "cell_type": "markdown",
   "id": "afda6055",
   "metadata": {},
   "source": [
    "We can see from the log likelihood of the three average patches that, the log likelihood value increases with increase in the number of patches from which the average is calculated. Hence we can conclude from Central Limit Theorem that sampling more and more patches from the image will make the distribution of the sample mean to be normally distributed and thus increasing the level of Gaussanity. We can also see from the histogram that, the one with 1000 patches has the highest level of Gaussianity among the three and hence the log likelihood is also higher. "
   ]
  },
  {
   "cell_type": "markdown",
   "id": "f0c647f2",
   "metadata": {},
   "source": [
    "# P3: Gradient Ascent for Eigendecomposition"
   ]
  },
  {
   "cell_type": "code",
   "execution_count": 2,
   "id": "cd719216",
   "metadata": {},
   "outputs": [
    {
     "name": "stdout",
     "output_type": "stream",
     "text": [
      "(2, 1000)\n"
     ]
    }
   ],
   "source": [
    "import scipy.io\n",
    "import matplotlib.pyplot as plt\n",
    "import numpy as np\n",
    "from numpy import random\n",
    "import math\n",
    "\n",
    "mat = scipy.io.loadmat('data/X.mat')\n",
    "\n",
    "print(mat['X'].shape)"
   ]
  },
  {
   "cell_type": "code",
   "execution_count": 3,
   "id": "65d9f3f4",
   "metadata": {},
   "outputs": [
    {
     "data": {
      "text/plain": [
       "<matplotlib.collections.PathCollection at 0x7f90a8edfa00>"
      ]
     },
     "execution_count": 3,
     "metadata": {},
     "output_type": "execute_result"
    },
    {
     "data": {
      "image/png": "[encoded data removed]",
      "text/plain": [
       "<Figure size 432x288 with 1 Axes>"
      ]
     },
     "metadata": {
      "needs_background": "light"
     },
     "output_type": "display_data"
    }
   ],
   "source": [
    "plt.scatter(mat['X'][0],mat['X'][1])"
   ]
  },
  {
   "cell_type": "code",
   "execution_count": 4,
   "id": "ce3ca482",
   "metadata": {},
   "outputs": [],
   "source": [
    "def gradient_ascent(w, X, rho):\n",
    "    \n",
    "    # Normalizing to make w as unit vector - Step 5\n",
    "    #w_norm = w/np.linalg.norm(w)\n",
    "    \n",
    "    # Projecting data samples to the eigenvector - Step 6\n",
    "    z = np.matmul(w.T, X)\n",
    "    \n",
    "    # We need to maximize this eigen value - Step 7\n",
    "    lambda_1 = np.matmul(z,z.T) \n",
    "    \n",
    "    # Converting the data to square matrix\n",
    "    data_square = np.matmul(X, X.T)\n",
    "    \n",
    "    # Differentiating objective function with respect to the parameter - Step 8\n",
    "    der_lambda = np.matmul(data_square, w) + np.matmul(data_square, w)\n",
    "    \n",
    "    # Using gradient direction to update the parameter\n",
    "    new_w = w + rho*der_lambda\n",
    "    \n",
    "    #new_w = new_w/np.linalg.norm(new_w)\n",
    "    new_w_norm = new_w/np.sqrt(np.sum(new_w**2))\n",
    "    \n",
    "    return new_w_norm    \n",
    "    "
   ]
  },
  {
   "cell_type": "markdown",
   "id": "8b943d23",
   "metadata": {},
   "source": [
    "## First Eigenvector"
   ]
  },
  {
   "cell_type": "code",
   "execution_count": 5,
   "id": "12e95b11",
   "metadata": {},
   "outputs": [
    {
     "name": "stdout",
     "output_type": "stream",
     "text": [
      " The first Eigen vector: [-0.70593278  0.70827884]\n",
      "No. of Iteration for gradient convergence: 31\n"
     ]
    }
   ],
   "source": [
    "X = mat['X']\n",
    "\n",
    "w = random.normal(size=2)\n",
    "\n",
    "#w = w/np.linalg.norm(w)\n",
    "\n",
    "w_norm = w/np.sqrt(np.sum(w**2))\n",
    "\n",
    "rho = 0.001\n",
    "\n",
    "count = 0\n",
    "\n",
    "while(True):\n",
    "    \n",
    "    count+=1\n",
    "\n",
    "    updated_w_1 = gradient_ascent(w_norm, X, rho)\n",
    "    \n",
    "    if(abs(sum(updated_w_1) - sum(w_norm)) < 0.000000000001):\n",
    "        \n",
    "        break\n",
    "    \n",
    "    w_norm = updated_w_1\n",
    "    \n",
    "print(\" The first Eigen vector:\", updated_w_1)\n",
    "print(\"No. of Iteration for gradient convergence:\", count)"
   ]
  },
  {
   "cell_type": "code",
   "execution_count": 6,
   "id": "a8e2c08a",
   "metadata": {},
   "outputs": [
    {
     "name": "stdout",
     "output_type": "stream",
     "text": [
      "40.72576985464108\n"
     ]
    }
   ],
   "source": [
    "w_X = np.matmul(updated_w_1.T, X)\n",
    "\n",
    "s = np.linalg.norm(w_X)\n",
    "\n",
    "print(s)\n",
    "\n",
    "u_T = w_X/s"
   ]
  },
  {
   "cell_type": "code",
   "execution_count": 7,
   "id": "7d9912a7",
   "metadata": {},
   "outputs": [
    {
     "name": "stdout",
     "output_type": "stream",
     "text": [
      "(2, 1000)\n"
     ]
    }
   ],
   "source": [
    "u_T = u_T.reshape(1,1000)\n",
    "\n",
    "w_s_1 = updated_w_1.reshape(2,1)\n",
    "\n",
    "first_eigen = np.matmul((w_s_1*s),u_T)\n",
    "\n",
    "print(first_eigen.shape)"
   ]
  },
  {
   "cell_type": "code",
   "execution_count": 8,
   "id": "d799a4ee",
   "metadata": {},
   "outputs": [],
   "source": [
    "new_X_1 = X - first_eigen"
   ]
  },
  {
   "cell_type": "code",
   "execution_count": 9,
   "id": "00b17693",
   "metadata": {},
   "outputs": [
    {
     "name": "stderr",
     "output_type": "stream",
     "text": [
      "<ipython-input-9-15e6f2ca95da>:6: MatplotlibDeprecationWarning: Adding an axes using the same arguments as a previous axes currently reuses the earlier instance.  In a future version, a new instance will always be created and returned.  Meanwhile, this warning can be suppressed, and the future behavior ensured, by passing a unique label to each axes instance.\n",
      "  axis = plt.axes()\n"
     ]
    },
    {
     "data": {
      "image/png": "[encoded data removed]",
      "text/plain": [
       "<Figure size 576x576 with 1 Axes>"
      ]
     },
     "metadata": {
      "needs_background": "light"
     },
     "output_type": "display_data"
    }
   ],
   "source": [
    "plt.figure(figsize = (8,8))\n",
    "plt.scatter(new_X_1[0],new_X_1[1])\n",
    "\n",
    "origin = [0,0]\n",
    "\n",
    "axis = plt.axes()\n",
    "axis.arrow(origin[0], origin[1], w_s_1.tolist()[0][0], w_s_1.tolist()[1][0], width = 0.01, color = 'red', head_width = 0.1, head_length = 0.1)\n",
    "plt.title('Scatter plot of the new X with the first eigen vector')\n",
    "plt.show()"
   ]
  },
  {
   "cell_type": "markdown",
   "id": "1d04f1bf",
   "metadata": {},
   "source": [
    "We can see from the above plot that the new data matrix doesnt have any effect of the first eigen vector."
   ]
  },
  {
   "cell_type": "markdown",
   "id": "6131eb3b",
   "metadata": {},
   "source": [
    "## Second Eigenvector"
   ]
  },
  {
   "cell_type": "code",
   "execution_count": 10,
   "id": "961b8010",
   "metadata": {},
   "outputs": [
    {
     "name": "stdout",
     "output_type": "stream",
     "text": [
      "The second Eigen vector: [0.70827884 0.70593278]\n",
      "No. of Iteration for gradient convergence: 43\n"
     ]
    }
   ],
   "source": [
    "X = new_X_1\n",
    "\n",
    "w = random.normal(size=2)\n",
    "\n",
    "w_norm = w/np.sqrt(np.sum(w**2))\n",
    "\n",
    "rho = 0.001\n",
    "\n",
    "count = 0\n",
    "\n",
    "while(True):\n",
    "    \n",
    "    count+=1\n",
    "\n",
    "    updated_w_2 = gradient_ascent(w_norm, X, rho)\n",
    "    \n",
    "    if(abs(sum(updated_w_2) - sum(w_norm)) < 0.000000000001):\n",
    "        \n",
    "        break\n",
    "    \n",
    "    w_norm = updated_w_2\n",
    "    \n",
    "print(\"The second Eigen vector:\", updated_w_2)\n",
    "print(\"No. of Iteration for gradient convergence:\", count)"
   ]
  },
  {
   "cell_type": "code",
   "execution_count": 11,
   "id": "3a6e5b86",
   "metadata": {},
   "outputs": [
    {
     "name": "stdout",
     "output_type": "stream",
     "text": [
      "17.040911224747\n"
     ]
    }
   ],
   "source": [
    "w_X = np.matmul(updated_w_2.T, X)\n",
    "\n",
    "s = np.linalg.norm(w_X)\n",
    "\n",
    "print(s)\n",
    "\n",
    "u_T = w_X/s"
   ]
  },
  {
   "cell_type": "code",
   "execution_count": 12,
   "id": "2b37e47b",
   "metadata": {},
   "outputs": [
    {
     "name": "stdout",
     "output_type": "stream",
     "text": [
      "(2, 1000)\n"
     ]
    }
   ],
   "source": [
    "u_T = u_T.reshape(1,1000)\n",
    "\n",
    "w_s_2 = updated_w_2.reshape(2,1)\n",
    "\n",
    "second_eigen = np.matmul((w_s_2*s),u_T)\n",
    "\n",
    "print(second_eigen.shape)"
   ]
  },
  {
   "cell_type": "code",
   "execution_count": 13,
   "id": "8bd74919",
   "metadata": {},
   "outputs": [],
   "source": [
    "new_X_2 = X - second_eigen"
   ]
  },
  {
   "cell_type": "code",
   "execution_count": 14,
   "id": "3d941090",
   "metadata": {},
   "outputs": [
    {
     "name": "stderr",
     "output_type": "stream",
     "text": [
      "<ipython-input-14-5593dd3b5c31>:6: MatplotlibDeprecationWarning: Adding an axes using the same arguments as a previous axes currently reuses the earlier instance.  In a future version, a new instance will always be created and returned.  Meanwhile, this warning can be suppressed, and the future behavior ensured, by passing a unique label to each axes instance.\n",
      "  axis = plt.axes()\n"
     ]
    },
    {
     "data": {
      "image/png": "[encoded data removed]",
      "text/plain": [
       "<Figure size 576x576 with 1 Axes>"
      ]
     },
     "metadata": {
      "needs_background": "light"
     },
     "output_type": "display_data"
    }
   ],
   "source": [
    "plt.figure(figsize = (8,8))\n",
    "plt.scatter(mat['X'][0],mat['X'][1])\n",
    "\n",
    "origin = [0,0]\n",
    "\n",
    "axis = plt.axes()\n",
    "axis.arrow(origin[0], origin[1], w_s_1.tolist()[0][0], w_s_1.tolist()[1][0], width = 0.05, color = 'red', head_width = 0.25, head_length = 0.25)\n",
    "axis.arrow(origin[0], origin[1], w_s_2.tolist()[0][0], w_s_2.tolist()[1][0], width = 0.05, color = 'chartreuse', head_width = 0.25, head_length = 0.25)\n",
    "plt.title('Scatter plot with two eigen vectors')\n",
    "plt.show()"
   ]
  },
  {
   "cell_type": "raw",
   "id": "da0aedcc",
   "metadata": {},
   "source": [
    "From the above plot we can conclude that both the eigen vectors are orthonormal to each other."
   ]
  }
 ],
 "metadata": {
  "kernelspec": {
   "display_name": "Python 3",
   "language": "python",
   "name": "python3"
  },
  "language_info": {
   "codemirror_mode": {
    "name": "ipython",
    "version": 3
   },
   "file_extension": ".py",
   "mimetype": "text/x-python",
   "name": "python",
   "nbconvert_exporter": "python",
   "pygments_lexer": "ipython3",
   "version": "3.8.8"
  }
 },
 "nbformat": 4,
 "nbformat_minor": 5
}
